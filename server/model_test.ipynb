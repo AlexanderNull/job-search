{
 "cells": [
  {
   "cell_type": "code",
   "execution_count": 1,
   "metadata": {},
   "outputs": [],
   "source": [
    "import requests"
   ]
  },
  {
   "cell_type": "code",
   "execution_count": 2,
   "metadata": {},
   "outputs": [],
   "source": [
    "def get_seq_length():\n",
    "    return 200"
   ]
  },
  {
   "cell_type": "code",
   "execution_count": 3,
   "metadata": {},
   "outputs": [
    {
     "output_type": "execute_result",
     "data": {
      "text/plain": "<Response [200]>"
     },
     "metadata": {},
     "execution_count": 3
    }
   ],
   "source": [
    "args = {\n",
    "    \"max_sequence_length\": get_seq_length(),\n",
    "    \"epochs\": 100,\n",
    "    \"learning_rate\": 0.0001,\n",
    "    \"batch_size\": 15\n",
    "}\n",
    "requests.post(\"http://localhost:5000/api/model\", json=args)"
   ]
  },
  {
   "cell_type": "code",
   "execution_count": 27,
   "metadata": {},
   "outputs": [],
   "source": [
    "def get_whois():\n",
    "    return requests.get(\"https://hacker-news.firebaseio.com/v0/user/whoishiring/submitted.json\").json()\n",
    "    "
   ]
  },
  {
   "cell_type": "code",
   "execution_count": 4,
   "metadata": {},
   "outputs": [],
   "source": [
    "def get_post(id):\n",
    "    return requests.get(f\"https://hacker-news.firebaseio.com/v0/item/{id}.json\").json()"
   ]
  },
  {
   "cell_type": "code",
   "execution_count": 5,
   "metadata": {},
   "outputs": [],
   "source": [
    "def is_hiring_post(post):\n",
    "    return post.get(\"title\", \"\").startswith(\"Ask HN: Who\")"
   ]
  },
  {
   "cell_type": "code",
   "execution_count": 8,
   "metadata": {},
   "outputs": [],
   "source": [
    "resp = get_post(23379196)"
   ]
  },
  {
   "cell_type": "code",
   "execution_count": 9,
   "metadata": {},
   "outputs": [
    {
     "output_type": "execute_result",
     "data": {
      "text/plain": "True"
     },
     "metadata": {},
     "execution_count": 9
    }
   ],
   "source": [
    "is_hiring_post(resp)"
   ]
  },
  {
   "cell_type": "code",
   "execution_count": 10,
   "metadata": {},
   "outputs": [],
   "source": [
    "job_posts = resp[\"kids\"]"
   ]
  },
  {
   "cell_type": "code",
   "execution_count": 11,
   "metadata": {},
   "outputs": [],
   "source": [
    "def get_jobs(ids):\n",
    "    jobs = []\n",
    "    for id in ids:\n",
    "        resp = get_post(id)\n",
    "        if \"text\" in resp:\n",
    "            jobs.append({\"id\": id, \"text\": resp[\"text\"]})\n",
    "\n",
    "    return jobs"
   ]
  },
  {
   "cell_type": "code",
   "execution_count": 12,
   "metadata": {},
   "outputs": [],
   "source": [
    "jobs = get_jobs(job_posts)"
   ]
  },
  {
   "cell_type": "code",
   "execution_count": 13,
   "metadata": {},
   "outputs": [],
   "source": [
    "jobs = [ job for job in jobs if len(job['text']) ]"
   ]
  },
  {
   "cell_type": "code",
   "execution_count": 14,
   "metadata": {},
   "outputs": [],
   "source": [
    "def get_prediction(job):\n",
    "    resp = requests.post(\"http://localhost:5000/api/model/predict\", json={ 'max_sequence_length': get_seq_length(), 'text': job['text'] })\n",
    "    return resp.json()"
   ]
  },
  {
   "cell_type": "code",
   "execution_count": 16,
   "metadata": {},
   "outputs": [],
   "source": [
    "def get_predictions(j):\n",
    "    predictions = []\n",
    "    for job in j:\n",
    "        result = get_prediction(job)\n",
    "        result['id'] = job['id']\n",
    "        predictions.append(result)\n",
    "        if 'preferred' in result and result['preferred'] == 1:\n",
    "            print(f\"Looks like you're interested in {job['id']}\")\n",
    "\n",
    "    return predictions"
   ]
  },
  {
   "cell_type": "code",
   "execution_count": 17,
   "metadata": {},
   "outputs": [],
   "source": [
    "predictions = []"
   ]
  },
  {
   "cell_type": "code",
   "execution_count": 24,
   "metadata": {},
   "outputs": [
    {
     "output_type": "stream",
     "name": "stdout",
     "text": "Looks like you're interested in 23387293\nLooks like you're interested in 23379860\nLooks like you're interested in 23380802\nLooks like you're interested in 23382696\nLooks like you're interested in 23380353\nLooks like you're interested in 23380968\nLooks like you're interested in 23383969\nLooks like you're interested in 23383420\nLooks like you're interested in 23384665\nLooks like you're interested in 23502411\nLooks like you're interested in 23502162\nLooks like you're interested in 23382224\nLooks like you're interested in 23380080\nLooks like you're interested in 23381774\nLooks like you're interested in 23384595\nLooks like you're interested in 23382887\nLooks like you're interested in 23382862\nLooks like you're interested in 23384795\nLooks like you're interested in 23380814\nLooks like you're interested in 23380199\nLooks like you're interested in 23379394\nLooks like you're interested in 23380175\nLooks like you're interested in 23388371\nLooks like you're interested in 23380910\nLooks like you're interested in 23381483\nLooks like you're interested in 23382491\nLooks like you're interested in 23390670\nLooks like you're interested in 23394145\nLooks like you're interested in 23385317\nLooks like you're interested in 23384167\nLooks like you're interested in 23386996\nLooks like you're interested in 23382771\nLooks like you're interested in 23382545\nLooks like you're interested in 23382891\nLooks like you're interested in 23475652\nLooks like you're interested in 23456985\nLooks like you're interested in 23390315\nLooks like you're interested in 23385639\nLooks like you're interested in 23380131\nLooks like you're interested in 23386099\nLooks like you're interested in 23385563\nLooks like you're interested in 23380110\nLooks like you're interested in 23380563\nLooks like you're interested in 23389281\nLooks like you're interested in 23379980\nLooks like you're interested in 23384748\nLooks like you're interested in 23475350\nLooks like you're interested in 23449132\nLooks like you're interested in 23418825\nLooks like you're interested in 23382117\nLooks like you're interested in 23379313\nLooks like you're interested in 23380959\nLooks like you're interested in 23409477\nLooks like you're interested in 23479459\nLooks like you're interested in 23428885\nLooks like you're interested in 23404751\nLooks like you're interested in 23381718\nLooks like you're interested in 23401228\nLooks like you're interested in 23430349\nLooks like you're interested in 23470841\nLooks like you're interested in 23403317\nLooks like you're interested in 23382465\nLooks like you're interested in 23477310\nLooks like you're interested in 23391597\nLooks like you're interested in 23456366\nLooks like you're interested in 23392474\nLooks like you're interested in 23395654\nLooks like you're interested in 23397297\nLooks like you're interested in 23392149\nLooks like you're interested in 23431144\nLooks like you're interested in 23382244\nLooks like you're interested in 23389582\nLooks like you're interested in 23380504\nLooks like you're interested in 23379983\nLooks like you're interested in 23402322\nLooks like you're interested in 23381728\nLooks like you're interested in 23394100\nLooks like you're interested in 23380144\nLooks like you're interested in 23383949\nLooks like you're interested in 23382923\nLooks like you're interested in 23399274\nLooks like you're interested in 23408398\nLooks like you're interested in 23384026\nLooks like you're interested in 23471362\nLooks like you're interested in 23382314\nLooks like you're interested in 23382361\nLooks like you're interested in 23379654\nLooks like you're interested in 23391649\nLooks like you're interested in 23382232\nLooks like you're interested in 23388887\nLooks like you're interested in 23419568\nLooks like you're interested in 23381669\nLooks like you're interested in 23394082\nLooks like you're interested in 23382436\nLooks like you're interested in 23390720\nLooks like you're interested in 23382196\nLooks like you're interested in 23380590\nLooks like you're interested in 23382293\nLooks like you're interested in 23381000\nLooks like you're interested in 23379197\nLooks like you're interested in 23380699\nLooks like you're interested in 23379696\nLooks like you're interested in 23380336\nLooks like you're interested in 23381135\nLooks like you're interested in 23386896\nLooks like you're interested in 23380087\nLooks like you're interested in 23415555\nLooks like you're interested in 23392452\nLooks like you're interested in 23384423\nLooks like you're interested in 23389807\nLooks like you're interested in 23380212\nLooks like you're interested in 23417971\nLooks like you're interested in 23386547\nLooks like you're interested in 23383424\nLooks like you're interested in 23459657\nLooks like you're interested in 23381765\nLooks like you're interested in 23384773\nLooks like you're interested in 23381762\nLooks like you're interested in 23381527\nLooks like you're interested in 23385913\nLooks like you're interested in 23380616\nLooks like you're interested in 23382932\nLooks like you're interested in 23385471\nLooks like you're interested in 23390924\nLooks like you're interested in 23394377\nLooks like you're interested in 23385412\nLooks like you're interested in 23381214\nLooks like you're interested in 23401144\nLooks like you're interested in 23381353\nLooks like you're interested in 23381305\nLooks like you're interested in 23389987\nLooks like you're interested in 23383459\nLooks like you're interested in 23382076\nLooks like you're interested in 23407078\nLooks like you're interested in 23381830\nLooks like you're interested in 23414429\nLooks like you're interested in 23388837\nLooks like you're interested in 23380647\nLooks like you're interested in 23380096\nLooks like you're interested in 23386711\nLooks like you're interested in 23383239\nLooks like you're interested in 23381571\nLooks like you're interested in 23384793\nLooks like you're interested in 23383712\nLooks like you're interested in 23388355\nLooks like you're interested in 23380646\nLooks like you're interested in 23385430\nLooks like you're interested in 23379526\nLooks like you're interested in 23381519\nLooks like you're interested in 23382024\nLooks like you're interested in 23388786\nLooks like you're interested in 23381131\nLooks like you're interested in 23417393\nLooks like you're interested in 23381012\nLooks like you're interested in 23388235\nLooks like you're interested in 23385245\nLooks like you're interested in 23382581\nLooks like you're interested in 23380953\nLooks like you're interested in 23383252\nLooks like you're interested in 23386010\nLooks like you're interested in 23381208\nLooks like you're interested in 23408997\nLooks like you're interested in 23391407\nLooks like you're interested in 23385085\nLooks like you're interested in 23381817\nLooks like you're interested in 23381358\nLooks like you're interested in 23388352\nLooks like you're interested in 23380926\nLooks like you're interested in 23383511\nLooks like you're interested in 23390186\nLooks like you're interested in 23386069\nLooks like you're interested in 23383603\nLooks like you're interested in 23384015\nLooks like you're interested in 23387655\nLooks like you're interested in 23388693\nLooks like you're interested in 23382639\nLooks like you're interested in 23401290\nLooks like you're interested in 23385898\nLooks like you're interested in 23379917\nLooks like you're interested in 23382114\nLooks like you're interested in 23385290\nLooks like you're interested in 23386114\nLooks like you're interested in 23379368\nLooks like you're interested in 23381391\nLooks like you're interested in 23381331\nLooks like you're interested in 23384935\nLooks like you're interested in 23385225\nLooks like you're interested in 23381778\nLooks like you're interested in 23399440\nLooks like you're interested in 23379570\nLooks like you're interested in 23479809\nLooks like you're interested in 23380389\nLooks like you're interested in 23379773\nLooks like you're interested in 23381332\nLooks like you're interested in 23391626\nLooks like you're interested in 23384940\nLooks like you're interested in 23381184\nLooks like you're interested in 23380663\nLooks like you're interested in 23380381\nLooks like you're interested in 23379575\nLooks like you're interested in 23379994\nLooks like you're interested in 23394896\nLooks like you're interested in 23383658\n"
    }
   ],
   "source": [
    "predictions += get_predictions(jobs)"
   ]
  },
  {
   "cell_type": "code",
   "execution_count": 45,
   "metadata": {},
   "outputs": [
    {
     "output_type": "execute_result",
     "data": {
      "text/plain": "[23380030, 23387293, 23449132, 23385642, 23379232]"
     },
     "metadata": {},
     "execution_count": 45
    }
   ],
   "source": [
    "[x[\"id\"] for x in jobs[0:5]]"
   ]
  },
  {
   "cell_type": "code",
   "execution_count": 22,
   "metadata": {},
   "outputs": [
    {
     "output_type": "execute_result",
     "data": {
      "text/plain": "'Avanti Bank &amp; Trust | Senior Software Engineer | Full-time | Remote | <a href=\"https:&#x2F;&#x2F;avantibank.com&#x2F;\" rel=\"nofollow\">https:&#x2F;&#x2F;avantibank.com&#x2F;</a><p>Avanti Financial Group, Inc. is a Wyoming corporation formed to apply for a bank charter under Wyoming’s special-purpose depository institution (&quot;SPDI&quot;) law. Avanti intends to serve as a compliant bridge to the U.S. dollar payments system and a custodian of digital assets that can meet the strictest level of institutional custody standards. Avanti will also comply with Wyoming&#x27;s SPDI and digital asset laws, which include requirements that fiat deposits be 100% reserved and that Avanti meet strict requirements from its regulators.<p>We are looking for software engineers, security engineers, and devops. We have a number of different products in the pipeline all serviced by our engineering team, which requires traditional CRUD work but also a number of integrations, such as with bitcoin and other cryptocurrencies. Django experience a plus.<p>Read more here: <a href=\"https:&#x2F;&#x2F;www.coindesk.com&#x2F;blockchain-pioneer-caitlin-long-to-build-crypto-bank-in-wyoming\" rel=\"nofollow\">https:&#x2F;&#x2F;www.coindesk.com&#x2F;blockchain-pioneer-caitlin-long-to-...</a> and <a href=\"https:&#x2F;&#x2F;www.forbes.com&#x2F;sites&#x2F;michaeldelcastillo&#x2F;2020&#x2F;04&#x2F;01&#x2F;a-bitcoin-bastion-for-the-wild-west&#x2F;\" rel=\"nofollow\">https:&#x2F;&#x2F;www.forbes.com&#x2F;sites&#x2F;michaeldelcastillo&#x2F;2020&#x2F;04&#x2F;01&#x2F;a...</a> and <a href=\"https:&#x2F;&#x2F;twitter.com&#x2F;kanzure&#x2F;status&#x2F;1252239022287654912\" rel=\"nofollow\">https:&#x2F;&#x2F;twitter.com&#x2F;kanzure&#x2F;status&#x2F;1252239022287654912</a><p>Contact: jobs@avantibank.com and reference this post.'"
     },
     "metadata": {},
     "execution_count": 22
    }
   ],
   "source": [
    "[x for x in jobs if x['id'] == 23380802 ][0]['text']"
   ]
  },
  {
   "cell_type": "code",
   "execution_count": 27,
   "metadata": {},
   "outputs": [],
   "source": [
    "def get_text(id):\n",
    "    return [ x for x in jobs if  x['id'] == id ][0]['text']"
   ]
  },
  {
   "cell_type": "code",
   "execution_count": 28,
   "metadata": {},
   "outputs": [
    {
     "output_type": "execute_result",
     "data": {
      "text/plain": "'Cuanto | REMOTE (everyone in the company) | Full-time | Backend Engineer<p>The company:<p>We&#x27;re creating mobile-first tools to help Latin American entrepreneurs and small businesses grow through Instagram and WhatsApp. We want to help the region&#x27;s +200M self-employed bring their businesses online.<p>Our product began as something like Shopify meets Square for a business run by one person. We believe this will help millions make a living off the internet.<p>The role:<p>We need you to take the lead on our APIs and analytics pipelines. Ideally, you love creating coherent and well-tested APIs.<p>You understand how valuable data is to create amazing products, improve processes, and grow a business.<p>You&#x27;ll be responsible for maintaining an API for an e-commerce platform, a mobile app, integrations to payment processors and fraud detection.<p>We&#x27;re building integrations to more third-party services - you&#x27;ll be laying the foundation for a platform.<p>Tech Stack: Heroku, Ruby on Rails, PostgreSQL, Metabase&#x2F;Segment&#x2F;Amplitude, React Native.<p>Why:<p>These products are really making a difference for a lot of people.<p>Our customers are starting companies, turning passions into revenue, and quitting 9-to-5s in a region where human capital is underappreciated.<p>Send me a message at jose@cuanto.app if you want to know more about the role and what we&#x27;re doing. Here&#x27;s the listing for the job in AL <a href=\"https:&#x2F;&#x2F;angel.co&#x2F;company&#x2F;cuanto&#x2F;jobs&#x2F;851994-founding-backend-engineer\" rel=\"nofollow\">https:&#x2F;&#x2F;angel.co&#x2F;company&#x2F;cuanto&#x2F;jobs&#x2F;851994-founding-backend...</a>'"
     },
     "metadata": {},
     "execution_count": 28
    }
   ],
   "source": [
    "get_text(23382696)"
   ]
  },
  {
   "cell_type": "code",
   "execution_count": null,
   "metadata": {},
   "outputs": [],
   "source": []
  }
 ],
 "metadata": {
  "language_info": {
   "codemirror_mode": {
    "name": "ipython",
    "version": 3
   },
   "file_extension": ".py",
   "mimetype": "text/x-python",
   "name": "python",
   "nbconvert_exporter": "python",
   "pygments_lexer": "ipython3",
   "version": "3.6.9-final"
  },
  "orig_nbformat": 2,
  "kernelspec": {
   "name": "python37664bitjobsearchpipenva2023f2d64ac47abb087b1cb76916089",
   "display_name": "Python 3.7.6 64-bit ('job-search': pipenv)"
  }
 },
 "nbformat": 4,
 "nbformat_minor": 2
}