{
 "cells": [
  {
   "cell_type": "code",
   "execution_count": 2,
   "metadata": {},
   "outputs": [],
   "source": [
    "import requests"
   ]
  },
  {
   "cell_type": "code",
   "execution_count": 108,
   "metadata": {},
   "outputs": [],
   "source": [
    "def get_seq_length():\n",
    "    return 125"
   ]
  },
  {
   "cell_type": "code",
   "execution_count": 109,
   "metadata": {},
   "outputs": [
    {
     "output_type": "execute_result",
     "data": {
      "text/plain": "<Response [200]>"
     },
     "metadata": {},
     "execution_count": 109
    }
   ],
   "source": [
    "args = {\n",
    "    \"max_sequence_length\": get_seq_length(),\n",
    "    \"epochs\": 100,\n",
    "    \"learning_rate\": 0.0001,\n",
    "    \"batch_size\": 15\n",
    "}\n",
    "requests.post(\"http://localhost:5000/api/model\", json=args)"
   ]
  },
  {
   "cell_type": "code",
   "execution_count": 27,
   "metadata": {},
   "outputs": [],
   "source": [
    "def get_whois():\n",
    "    return requests.get(\"https://hacker-news.firebaseio.com/v0/user/whoishiring/submitted.json\").json()\n",
    "    "
   ]
  },
  {
   "cell_type": "code",
   "execution_count": 28,
   "metadata": {},
   "outputs": [],
   "source": [
    "def get_post(id):\n",
    "    return requests.get(f\"https://hacker-news.firebaseio.com/v0/item/{id}.json\").json()"
   ]
  },
  {
   "cell_type": "code",
   "execution_count": 29,
   "metadata": {},
   "outputs": [
    {
     "output_type": "execute_result",
     "data": {
      "text/plain": "'Ask HN: Who is hiring? (June 2020)'"
     },
     "metadata": {},
     "execution_count": 29
    }
   ],
   "source": [
    "get_post(23379196)['title']"
   ]
  },
  {
   "cell_type": "code",
   "execution_count": 30,
   "metadata": {},
   "outputs": [],
   "source": [
    "def is_hiring_post(post):\n",
    "    return post.get(\"title\", \"\").startswith(\"Ask HN: Who\")"
   ]
  },
  {
   "cell_type": "code",
   "execution_count": 31,
   "metadata": {},
   "outputs": [],
   "source": [
    "resp = get_post(23379196)"
   ]
  },
  {
   "cell_type": "code",
   "execution_count": 33,
   "metadata": {},
   "outputs": [
    {
     "output_type": "execute_result",
     "data": {
      "text/plain": "True"
     },
     "metadata": {},
     "execution_count": 33
    }
   ],
   "source": [
    "is_hiring_post(resp)"
   ]
  },
  {
   "cell_type": "code",
   "execution_count": 32,
   "metadata": {},
   "outputs": [],
   "source": [
    "job_posts = resp[\"kids\"]"
   ]
  },
  {
   "cell_type": "code",
   "execution_count": 82,
   "metadata": {},
   "outputs": [],
   "source": [
    "def get_jobs(ids):\n",
    "    jobs = []\n",
    "    for id in ids:\n",
    "        resp = get_post(id)\n",
    "        if \"text\" in resp:\n",
    "            jobs.append({\"id\": id, \"text\": resp[\"text\"]})\n",
    "\n",
    "    return jobs"
   ]
  },
  {
   "cell_type": "code",
   "execution_count": 36,
   "metadata": {},
   "outputs": [],
   "source": [
    "jobs = get_jobs(job_posts)"
   ]
  },
  {
   "cell_type": "code",
   "execution_count": 37,
   "metadata": {},
   "outputs": [],
   "source": [
    "jobs = [ job for job in jobs if len(job['text']) ]"
   ]
  },
  {
   "cell_type": "code",
   "execution_count": 95,
   "metadata": {},
   "outputs": [],
   "source": [
    "def get_prediction(job):\n",
    "    resp = requests.post(\"http://localhost:5000/api/model/predict\", json={ 'max_sequence_length': get_seq_length(), 'text': job['text'] })\n",
    "    return resp.json()"
   ]
  },
  {
   "cell_type": "code",
   "execution_count": 97,
   "metadata": {},
   "outputs": [
    {
     "output_type": "stream",
     "name": "stdout",
     "text": "Looks like you're interested in 23380030\nLooks like you're interested in 23387293\nLooks like you're interested in 23379860\nLooks like you're interested in 23384303\nLooks like you're interested in 23385194\n"
    }
   ],
   "source": [
    "predictions = []\n",
    "for job in jobs[0:10]:\n",
    "    result = get_prediction(job)\n",
    "    result['id'] = job['id']\n",
    "    predictions.append(result)\n",
    "    if 'preferred' in result and result['preferred'] == 1:\n",
    "        print(f\"Looks like you're interested in {job['id']}\")"
   ]
  },
  {
   "cell_type": "code",
   "execution_count": 45,
   "metadata": {},
   "outputs": [
    {
     "output_type": "execute_result",
     "data": {
      "text/plain": "[23380030, 23387293, 23449132, 23385642, 23379232]"
     },
     "metadata": {},
     "execution_count": 45
    }
   ],
   "source": [
    "[x[\"id\"] for x in jobs[0:5]]"
   ]
  },
  {
   "cell_type": "code",
   "execution_count": 101,
   "metadata": {},
   "outputs": [
    {
     "output_type": "execute_result",
     "data": {
      "text/plain": "'Twenty | Non-Profit | Frontend, Fullstack | San Francisco, Remote (US only) | $135k<p>Hi, we’re Twenty! We’re a brand new non-profit on a mission to discover and develop the potential in everyone. We are pre-product and pre-website, but we already have an incredible group of supporters. Sal Khan, founder and CEO of Khan Academy and Bill Jackson, founder of GreatSchools, are both on our board. The Eric and Wendy Schmidt Strategic Innovation Fund is our first funder and Schmidt Futures is our first customer. We&#x27;re launching our MVP (Hello World) later this month.<p>Our CEO is an education executive with 30+ years of experience. Our CPO is a former startup founder and product manager from Khan Academy, and our CTO sold his previous company to Google.<p>Our tech stack uses Typescript + React Native on the frontend with a light Rails backend running on App Engine. We’re still early and nothing is set in stone, so there’s lots of room to craft and improve our stack.<p>We&#x27;re looking for someone with mobile experience (React Native&#x2F;Flutter&#x2F;native), an eye for product and design, and some backend experience or a desire to learn. If you’re interested in a product with impact, a high level of autonomy and solving problems for a global audience with tight constraints (connectivity and devices), send us an email!<p>hello@gethello.org'"
     },
     "metadata": {},
     "execution_count": 101
    }
   ],
   "source": [
    "[x for x in jobs if x['id'] == 23385194 ][0]['text']"
   ]
  },
  {
   "cell_type": "code",
   "execution_count": 73,
   "metadata": {},
   "outputs": [],
   "source": [
    "def get_text(id):\n",
    "    return [ x['text'] for x in jobs if  x['id'] == id ][0]['text']"
   ]
  },
  {
   "cell_type": "code",
   "execution_count": 74,
   "metadata": {},
   "outputs": [
    {
     "output_type": "error",
     "ename": "TypeError",
     "evalue": "string indices must be integers",
     "traceback": [
      "\u001b[0;31m---------------------------------------------------------------------------\u001b[0m",
      "\u001b[0;31mTypeError\u001b[0m                                 Traceback (most recent call last)",
      "\u001b[0;32m<ipython-input-74-9c8bb3d31f00>\u001b[0m in \u001b[0;36m<module>\u001b[0;34m\u001b[0m\n\u001b[0;32m----> 1\u001b[0;31m \u001b[0mget_text\u001b[0m\u001b[0;34m(\u001b[0m\u001b[0;36m23382696\u001b[0m\u001b[0;34m)\u001b[0m\u001b[0;34m\u001b[0m\u001b[0;34m\u001b[0m\u001b[0m\n\u001b[0m",
      "\u001b[0;32m<ipython-input-73-ad8bd5cb0d0a>\u001b[0m in \u001b[0;36mget_text\u001b[0;34m(id)\u001b[0m\n\u001b[1;32m      1\u001b[0m \u001b[0;32mdef\u001b[0m \u001b[0mget_text\u001b[0m\u001b[0;34m(\u001b[0m\u001b[0mid\u001b[0m\u001b[0;34m)\u001b[0m\u001b[0;34m:\u001b[0m\u001b[0;34m\u001b[0m\u001b[0;34m\u001b[0m\u001b[0m\n\u001b[0;32m----> 2\u001b[0;31m     \u001b[0;32mreturn\u001b[0m \u001b[0;34m[\u001b[0m \u001b[0mx\u001b[0m\u001b[0;34m[\u001b[0m\u001b[0;34m'text'\u001b[0m\u001b[0;34m]\u001b[0m \u001b[0;32mfor\u001b[0m \u001b[0mx\u001b[0m \u001b[0;32min\u001b[0m \u001b[0mjobs\u001b[0m \u001b[0;32mif\u001b[0m  \u001b[0mx\u001b[0m\u001b[0;34m[\u001b[0m\u001b[0;34m'id'\u001b[0m\u001b[0;34m]\u001b[0m \u001b[0;34m==\u001b[0m \u001b[0mid\u001b[0m \u001b[0;34m]\u001b[0m\u001b[0;34m[\u001b[0m\u001b[0;36m0\u001b[0m\u001b[0;34m]\u001b[0m\u001b[0;34m[\u001b[0m\u001b[0;34m'text'\u001b[0m\u001b[0;34m]\u001b[0m\u001b[0;34m\u001b[0m\u001b[0;34m\u001b[0m\u001b[0m\n\u001b[0m",
      "\u001b[0;31mTypeError\u001b[0m: string indices must be integers"
     ]
    }
   ],
   "source": [
    "get_text(23382696)"
   ]
  },
  {
   "cell_type": "code",
   "execution_count": 84,
   "metadata": {},
   "outputs": [
    {
     "output_type": "execute_result",
     "data": {
      "text/plain": "10"
     },
     "metadata": {},
     "execution_count": 84
    }
   ],
   "source": [
    "len(predictions)"
   ]
  },
  {
   "cell_type": "code",
   "execution_count": 77,
   "metadata": {},
   "outputs": [
    {
     "output_type": "execute_result",
     "data": {
      "text/plain": "498"
     },
     "metadata": {},
     "execution_count": 77
    }
   ],
   "source": [
    "len(job_posts)"
   ]
  },
  {
   "cell_type": "code",
   "execution_count": null,
   "metadata": {},
   "outputs": [],
   "source": []
  }
 ],
 "metadata": {
  "language_info": {
   "codemirror_mode": {
    "name": "ipython",
    "version": 3
   },
   "file_extension": ".py",
   "mimetype": "text/x-python",
   "name": "python",
   "nbconvert_exporter": "python",
   "pygments_lexer": "ipython3",
   "version": "3.6.9-final"
  },
  "orig_nbformat": 2,
  "kernelspec": {
   "name": "python37664bitjobsearchpipenva2023f2d64ac47abb087b1cb76916089",
   "display_name": "Python 3.7.6 64-bit ('job-search': pipenv)"
  }
 },
 "nbformat": 4,
 "nbformat_minor": 2
}